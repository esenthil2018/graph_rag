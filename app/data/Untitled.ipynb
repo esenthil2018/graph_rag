{
 "cells": [
  {
   "cell_type": "code",
   "execution_count": 1,
   "id": "50f69b24-f795-433c-b792-aae271bd3ecb",
   "metadata": {},
   "outputs": [
    {
     "name": "stdout",
     "output_type": "stream",
     "text": [
      "/Users/sesakkiappan/Desktop/drug_graph_rag/app/data\n"
     ]
    }
   ],
   "source": [
    "!pwd"
   ]
  },
  {
   "cell_type": "code",
   "execution_count": 2,
   "id": "ddb4d318-ce0c-4cc5-9392-41e2cf07ac6f",
   "metadata": {},
   "outputs": [
    {
     "name": "stdout",
     "output_type": "stream",
     "text": [
      "Total rows: 16581\n",
      "\n",
      "Columns: ['DrugBank ID', 'Accession Numbers', 'Common name', 'CAS', 'UNII', 'Synonyms', 'Standard InChI Key']\n",
      "\n",
      "Sample data:\n",
      "  DrugBank ID     Accession Numbers          Common name          CAS  \\\n",
      "0     DB00001  BTD00024 | BIOD00024            Lepirudin  138068-37-8   \n",
      "1     DB00002  BTD00071 | BIOD00071            Cetuximab  205923-56-4   \n",
      "2     DB00003  BTD00001 | BIOD00001         Dornase alfa  143831-71-4   \n",
      "3     DB00004  BTD00084 | BIOD00084  Denileukin diftitox  173146-27-5   \n",
      "4     DB00005  BTD00052 | BIOD00052           Etanercept  185243-69-0   \n",
      "\n",
      "         UNII                                           Synonyms  \\\n",
      "0  Y43GF64R34  [Leu1, Thr2]-63-desulfohirudin | Desulfatohiru...   \n",
      "1  PQX0D8J21J                Cetuximab | Cétuximab | Cetuximabum   \n",
      "2  953A26OA1Y  Deoxyribonuclease (human clone 18-1 protein mo...   \n",
      "3  25E79B5CTM  Denileukin | Denileukin diftitox | Interleukin...   \n",
      "4  OP401G7OJC  Etanercept | etanercept-szzs | etanercept-ykro...   \n",
      "\n",
      "  Standard InChI Key  \n",
      "0                NaN  \n",
      "1                NaN  \n",
      "2                NaN  \n",
      "3                NaN  \n",
      "4                NaN  \n",
      "\n",
      "Checking DB03713:\n",
      "Empty DataFrame\n",
      "Columns: [DrugBank ID, Accession Numbers, Common name, CAS, UNII, Synonyms, Standard InChI Key]\n",
      "Index: []\n"
     ]
    }
   ],
   "source": [
    "# Add this to data_processing.py or run in Python console\n",
    "import pandas as pd\n",
    "\n",
    "df = pd.read_csv('drugbank_vocabulary.csv')\n",
    "print(\"Total rows:\", len(df))\n",
    "print(\"\\nColumns:\", df.columns.tolist())\n",
    "print(\"\\nSample data:\")\n",
    "print(df.head())\n",
    "\n",
    "# Check for specific drug\n",
    "print(\"\\nChecking DB03713:\")\n",
    "print(df[df['DrugBank ID'] == 'DB03713'])"
   ]
  },
  {
   "cell_type": "code",
   "execution_count": null,
   "id": "fd27e04d-c1b1-4f62-9332-a809aa3b8a3f",
   "metadata": {},
   "outputs": [],
   "source": []
  },
  {
   "cell_type": "code",
   "execution_count": null,
   "id": "e1b1b642-de2b-4780-bbdf-44d856945b5b",
   "metadata": {},
   "outputs": [],
   "source": []
  }
 ],
 "metadata": {
  "kernelspec": {
   "display_name": "Python 3 (ipykernel)",
   "language": "python",
   "name": "python3"
  },
  "language_info": {
   "codemirror_mode": {
    "name": "ipython",
    "version": 3
   },
   "file_extension": ".py",
   "mimetype": "text/x-python",
   "name": "python",
   "nbconvert_exporter": "python",
   "pygments_lexer": "ipython3",
   "version": "3.11.10"
  }
 },
 "nbformat": 4,
 "nbformat_minor": 5
}
